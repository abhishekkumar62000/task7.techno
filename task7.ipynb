{
 "cells": [
  {
   "cell_type": "code",
   "execution_count": 2,
   "metadata": {},
   "outputs": [
    {
     "name": "stdout",
     "output_type": "stream",
     "text": [
      "\n",
      "To-Do List Menu:\n",
      "1. Add Task\n",
      "2. Remove Task\n",
      "3. Display Tasks\n",
      "4. Quit\n",
      "Task '2' added to the to-do list.\n",
      "\n",
      "To-Do List Menu:\n",
      "1. Add Task\n",
      "2. Remove Task\n",
      "3. Display Tasks\n",
      "4. Quit\n",
      "\n",
      "Current To-Do List:\n",
      "1. 2\n",
      "\n",
      "To-Do List Menu:\n",
      "1. Add Task\n",
      "2. Remove Task\n",
      "3. Display Tasks\n",
      "4. Quit\n",
      "Goodbye!\n"
     ]
    }
   ],
   "source": [
    "todo_list = []\n",
    "\n",
    "\n",
    "def add_task(task):\n",
    "    todo_list.append(task)\n",
    "    print(f\"Task '{task}' added to the to-do list.\")\n",
    "\n",
    "\n",
    "def remove_task(task):\n",
    "    if task in todo_list:\n",
    "        todo_list.remove(task)\n",
    "        print(f\"Task '{task}' removed from the to-do list.\")\n",
    "    else:\n",
    "        print(f\"Task '{task}' not found in the to-do list.\")\n",
    "\n",
    "\n",
    "def display_tasks():\n",
    "    if todo_list:\n",
    "        print(\"\\nCurrent To-Do List:\")\n",
    "        for i, task in enumerate(todo_list, start=1):\n",
    "            print(f\"{i}. {task}\")\n",
    "    else:\n",
    "        print(\"\\nYour to-do list is empty.\")\n",
    "\n",
    "\n",
    "while True:\n",
    "    print(\"\\nTo-Do List Menu:\")\n",
    "    print(\"1. Add Task\")\n",
    "    print(\"2. Remove Task\")\n",
    "    print(\"3. Display Tasks\")\n",
    "    print(\"4. Quit\")\n",
    "\n",
    "\n",
    "    choice = input(\"Enter your choice (1/2/3/4): \")\n",
    "\n",
    "    if choice == \"1\":\n",
    "        task = input(\"Enter the task to add: \")\n",
    "        add_task(task)\n",
    "        \n",
    "    elif choice == \"2\":\n",
    "        task = input(\"Enter the task to remove: \")\n",
    "        remove_task(task)\n",
    "        \n",
    "    elif choice == \"3\":\n",
    "        display_tasks()\n",
    "        \n",
    "    elif choice == \"4\":\n",
    "        print(\"Goodbye!\")\n",
    "        break\n",
    "    \n",
    "    else:\n",
    "        print(\"Invalid choice. Please select a valid option.\")"
   ]
  },
  {
   "cell_type": "code",
   "execution_count": null,
   "metadata": {},
   "outputs": [],
   "source": []
  }
 ],
 "metadata": {
  "kernelspec": {
   "display_name": "base",
   "language": "python",
   "name": "python3"
  },
  "language_info": {
   "codemirror_mode": {
    "name": "ipython",
    "version": 3
   },
   "file_extension": ".py",
   "mimetype": "text/x-python",
   "name": "python",
   "nbconvert_exporter": "python",
   "pygments_lexer": "ipython3",
   "version": "3.11.7"
  }
 },
 "nbformat": 4,
 "nbformat_minor": 2
}
